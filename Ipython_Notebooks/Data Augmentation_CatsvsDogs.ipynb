{
 "cells": [
  {
   "cell_type": "markdown",
   "metadata": {},
   "source": [
    "# Cats vs Dogs\n",
    "\n",
    "### Loading our images \n",
    "- Images are labeled catxxx.jpg and dogxxx.jpg"
   ]
  },
  {
   "cell_type": "code",
   "execution_count": 1,
   "metadata": {},
   "outputs": [
    {
     "name": "stdout",
     "output_type": "stream",
     "text": [
      "3002 images loaded\n"
     ]
    }
   ],
   "source": [
    "# Get filenames in list\n",
    "from os import listdir\n",
    "from os.path import isfile, join\n",
    "\n",
    "mypath = \"./datasets/images/\"\n",
    "\n",
    "file_names = [f for f in listdir(mypath) if isfile(join(mypath, f))]\n",
    "\n",
    "print(str(len(file_names)) + ' images loaded')"
   ]
  },
  {
   "cell_type": "markdown",
   "metadata": {},
   "source": [
    "### Splitting our loaded images into a training and test/validation dataset\n",
    "- We also need to store their labels (i.e. y_train and y_test)\n",
    "- We re-size our images here to maintain a constant dimension of 150 x 150\n",
    "- We're going to use 1000 images of dogs and 1000 images of cats as our training data\n",
    "- For our test/validation dataset we're going to use 500 of each class\n",
    "- Dogs will be labels 1 and cats 0\n",
    "- We store our new images in the following directories\n",
    " - /datasets/catsvsdogs/train/dogs\n",
    " - /datasets/catsvsdogs/train/cats\n",
    " - /datasets/catsvsdogs/validation/dogs\n",
    " - /datasets/catsvsdogs/validation/cats"
   ]
  },
  {
   "cell_type": "code",
   "execution_count": 2,
   "metadata": {},
   "outputs": [
    {
     "name": "stdout",
     "output_type": "stream",
     "text": [
      "Training and Test Data Extraction Complete\n"
     ]
    }
   ],
   "source": [
    "import cv2\n",
    "import numpy as np\n",
    "import sys\n",
    "import os\n",
    "import shutil\n",
    "\n",
    "# Extract 1000 for our training data and 500 for our validation set\n",
    "# Takes about ~20 seconds to run\n",
    "dog_count = 0\n",
    "cat_count = 0\n",
    "training_size = 1000\n",
    "test_size = 500\n",
    "training_images = []\n",
    "training_labels = []\n",
    "test_images = []\n",
    "test_labels = []\n",
    "size = 150\n",
    "dog_dir_train = \"./datasets/catsvsdogs/train/dogs/\"\n",
    "cat_dir_train = \"./datasets/catsvsdogs/train/cats/\"\n",
    "dog_dir_val = \"./datasets/catsvsdogs/validation/dogs/\"\n",
    "cat_dir_val = \"./datasets/catsvsdogs/validation/cats/\"\n",
    "\n",
    "def make_dir(directory):\n",
    "        if os.path.exists(directory):\n",
    "            shutil.rmtree(directory)\n",
    "        os.makedirs(directory)\n",
    "\n",
    "make_dir(dog_dir_train)\n",
    "make_dir(cat_dir_train)\n",
    "make_dir(dog_dir_val)\n",
    "make_dir(cat_dir_val)\n",
    "\n",
    "def getZeros(number):\n",
    "    if(number > 10 and number < 100):\n",
    "        return \"0\"\n",
    "    if(number < 10):\n",
    "        return \"00\"\n",
    "    else:\n",
    "        return \"\"\n",
    "\n",
    "for i, file in enumerate(file_names):\n",
    "    \n",
    "    if file_names[i][0] == \"d\":\n",
    "        dog_count += 1\n",
    "        image = cv2.imread(mypath+file)\n",
    "        image = cv2.resize(image, (size, size), interpolation = cv2.INTER_AREA)\n",
    "        if dog_count <= training_size:\n",
    "            training_images.append(image)\n",
    "            training_labels.append(1)\n",
    "            zeros = getZeros(dog_count)\n",
    "            cv2.imwrite(dog_dir_train + \"dog\" + str(zeros) + str(dog_count) + \".jpg\", image)\n",
    "        if dog_count > training_size and dog_count <= training_size+test_size:\n",
    "            test_images.append(image)\n",
    "            test_labels.append(1)\n",
    "            zeros = getZeros(dog_count-1000)\n",
    "            cv2.imwrite(dog_dir_val + \"dog\" + str(zeros) + str(dog_count-1000) + \".jpg\", image)\n",
    "            \n",
    "    if file_names[i][0] == \"c\":\n",
    "        cat_count += 1\n",
    "        image = cv2.imread(mypath+file)\n",
    "        image = cv2.resize(image, (size, size), interpolation = cv2.INTER_AREA)\n",
    "        if cat_count <= training_size:\n",
    "            training_images.append(image)\n",
    "            training_labels.append(0)\n",
    "            zeros = getZeros(cat_count)\n",
    "            cv2.imwrite(cat_dir_train + \"cat\" + str(zeros) + str(cat_count) + \".jpg\", image)\n",
    "        if cat_count > training_size and cat_count <= training_size+test_size:\n",
    "            test_images.append(image)\n",
    "            test_labels.append(0)\n",
    "            zeros = getZeros(cat_count-1000)\n",
    "            cv2.imwrite(cat_dir_val + \"cat\" + str(zeros) + str(cat_count-1000) + \".jpg\", image)\n",
    "\n",
    "    if dog_count == training_size+test_size and cat_count == training_size+test_size:\n",
    "        break\n",
    "\n",
    "print(\"Training and Test Data Extraction Complete\")"
   ]
  },
  {
   "cell_type": "markdown",
   "metadata": {},
   "source": [
    "### Let's save our dataset's to NPZ files"
   ]
  },
  {
   "cell_type": "code",
   "execution_count": 3,
   "metadata": {},
   "outputs": [],
   "source": [
    "# Using numpy's savez function to store our loaded data as NPZ files\n",
    "\n",
    "np.savez('cats_vs_dogs_training_data.npz', np.array(training_images))\n",
    "np.savez('cats_vs_dogs_training_labels.npz', np.array(training_labels))\n",
    "np.savez('cats_vs_dogs_test_data.npz', np.array(test_images))\n",
    "np.savez('cats_vs_dogs_test_labels.npz', np.array(test_labels))"
   ]
  },
  {
   "cell_type": "code",
   "execution_count": 4,
   "metadata": {},
   "outputs": [],
   "source": [
    "# Loader Function\n",
    "import numpy as np\n",
    "\n",
    "def load_data_training_and_test(datasetname):\n",
    "    \n",
    "    npzfile = np.load(datasetname + \"_training_data.npz\")\n",
    "    train = npzfile['arr_0']\n",
    "    \n",
    "    npzfile = np.load(datasetname + \"_training_labels.npz\")\n",
    "    train_labels = npzfile['arr_0']\n",
    "    \n",
    "    npzfile = np.load(datasetname + \"_test_data.npz\")\n",
    "    test = npzfile['arr_0']\n",
    "    \n",
    "    npzfile = np.load(datasetname + \"_test_labels.npz\")\n",
    "    test_labels = npzfile['arr_0']\n",
    "\n",
    "    return (train, train_labels), (test, test_labels)"
   ]
  },
  {
   "cell_type": "markdown",
   "metadata": {},
   "source": [
    "### Let's view some of our loaded images"
   ]
  },
  {
   "cell_type": "code",
   "execution_count": 5,
   "metadata": {
    "scrolled": true
   },
   "outputs": [
    {
     "name": "stdout",
     "output_type": "stream",
     "text": [
      "1 - Dog\n",
      "2 - Dog\n",
      "3 - Dog\n",
      "4 - Cat\n",
      "5 - Dog\n",
      "6 - Dog\n",
      "7 - Dog\n",
      "8 - Dog\n",
      "9 - Cat\n",
      "10 - Dog\n"
     ]
    }
   ],
   "source": [
    "for i in range(1,11):\n",
    "    random = np.random.randint(0, len(training_images))\n",
    "    cv2.imshow(\"image_\"+str(i), training_images[random])\n",
    "    if training_labels[random] == 0:\n",
    "        print(str(i) + \" - Cat\")\n",
    "    else:\n",
    "        print(str(i)+ \" - Dog\")\n",
    "    cv2.waitKey(0)\n",
    "    \n",
    "cv2.destroyAllWindows()"
   ]
  },
  {
   "cell_type": "markdown",
   "metadata": {},
   "source": [
    "### Let's get our data ready in the format expected by Keras\n",
    "- We also stick the previous naming convention "
   ]
  },
  {
   "cell_type": "code",
   "execution_count": 6,
   "metadata": {},
   "outputs": [
    {
     "name": "stdout",
     "output_type": "stream",
     "text": [
      "(2000, 150, 150, 3)\n",
      "(2000, 1)\n",
      "(1000, 150, 150, 3)\n",
      "(1000, 1)\n"
     ]
    }
   ],
   "source": [
    "(x_train, y_train), (x_test, y_test) = load_data_training_and_test(\"cats_vs_dogs\")\n",
    "\n",
    "# Reshaping our label data from (2000,) to (2000,1) and test data from (1000,) to (1000,1)\n",
    "y_train = y_train.reshape(y_train.shape[0], 1)\n",
    "y_test = y_test.reshape(y_test.shape[0], 1)\n",
    "\n",
    "# Change our image type to float32 data type\n",
    "x_train = x_train.astype('float32')\n",
    "x_test = x_test.astype('float32')\n",
    "\n",
    "# Normalize our data by changing the range from (0 to 255) to (0 to 1)\n",
    "x_train /= 255\n",
    "x_test /= 255\n",
    "\n",
    "print(x_train.shape)\n",
    "print(y_train.shape)\n",
    "print(x_test.shape)\n",
    "print(y_test.shape)"
   ]
  },
  {
   "cell_type": "markdown",
   "metadata": {},
   "source": [
    "### Let's create our model using a simple CNN that similar to what we used for CIFAR10\n",
    "- Except now we use a Sigmoid instead of Softmax\n",
    "- **Sigmoids are used when we're doing binary (i.e. two class) classification\n",
    "- Note the binary_crossentropy loss"
   ]
  },
  {
   "cell_type": "code",
   "execution_count": 7,
   "metadata": {},
   "outputs": [
    {
     "name": "stderr",
     "output_type": "stream",
     "text": [
      "Using TensorFlow backend.\n"
     ]
    },
    {
     "name": "stdout",
     "output_type": "stream",
     "text": [
      "WARNING:tensorflow:From /home/gamer/anaconda3/lib/python3.7/site-packages/tensorflow/python/framework/op_def_library.py:263: colocate_with (from tensorflow.python.framework.ops) is deprecated and will be removed in a future version.\n",
      "Instructions for updating:\n",
      "Colocations handled automatically by placer.\n",
      "WARNING:tensorflow:From /home/gamer/anaconda3/lib/python3.7/site-packages/keras/backend/tensorflow_backend.py:3445: calling dropout (from tensorflow.python.ops.nn_ops) with keep_prob is deprecated and will be removed in a future version.\n",
      "Instructions for updating:\n",
      "Please use `rate` instead of `keep_prob`. Rate should be set to `rate = 1 - keep_prob`.\n",
      "_________________________________________________________________\n",
      "Layer (type)                 Output Shape              Param #   \n",
      "=================================================================\n",
      "conv2d_1 (Conv2D)            (None, 148, 148, 32)      896       \n",
      "_________________________________________________________________\n",
      "activation_1 (Activation)    (None, 148, 148, 32)      0         \n",
      "_________________________________________________________________\n",
      "max_pooling2d_1 (MaxPooling2 (None, 74, 74, 32)        0         \n",
      "_________________________________________________________________\n",
      "conv2d_2 (Conv2D)            (None, 72, 72, 32)        9248      \n",
      "_________________________________________________________________\n",
      "activation_2 (Activation)    (None, 72, 72, 32)        0         \n",
      "_________________________________________________________________\n",
      "max_pooling2d_2 (MaxPooling2 (None, 36, 36, 32)        0         \n",
      "_________________________________________________________________\n",
      "conv2d_3 (Conv2D)            (None, 34, 34, 64)        18496     \n",
      "_________________________________________________________________\n",
      "activation_3 (Activation)    (None, 34, 34, 64)        0         \n",
      "_________________________________________________________________\n",
      "max_pooling2d_3 (MaxPooling2 (None, 17, 17, 64)        0         \n",
      "_________________________________________________________________\n",
      "flatten_1 (Flatten)          (None, 18496)             0         \n",
      "_________________________________________________________________\n",
      "dense_1 (Dense)              (None, 64)                1183808   \n",
      "_________________________________________________________________\n",
      "activation_4 (Activation)    (None, 64)                0         \n",
      "_________________________________________________________________\n",
      "dropout_1 (Dropout)          (None, 64)                0         \n",
      "_________________________________________________________________\n",
      "dense_2 (Dense)              (None, 1)                 65        \n",
      "_________________________________________________________________\n",
      "activation_5 (Activation)    (None, 1)                 0         \n",
      "=================================================================\n",
      "Total params: 1,212,513\n",
      "Trainable params: 1,212,513\n",
      "Non-trainable params: 0\n",
      "_________________________________________________________________\n",
      "None\n"
     ]
    }
   ],
   "source": [
    "from __future__ import print_function\n",
    "import keras\n",
    "from keras.preprocessing.image import ImageDataGenerator\n",
    "from keras.models import Sequential\n",
    "from keras.layers import Dense, Dropout, Activation, Flatten\n",
    "from keras.layers import Conv2D, MaxPooling2D\n",
    "import os\n",
    "\n",
    "batch_size = 16\n",
    "epochs = 25\n",
    "\n",
    "img_rows = x_train[0].shape[0]\n",
    "img_cols = x_train[1].shape[0]\n",
    "input_shape = (img_rows, img_cols, 3)\n",
    "\n",
    "model = Sequential()\n",
    "model.add(Conv2D(32, (3, 3), input_shape=input_shape))\n",
    "model.add(Activation('relu'))\n",
    "model.add(MaxPooling2D(pool_size=(2, 2)))\n",
    "\n",
    "model.add(Conv2D(32, (3, 3)))\n",
    "model.add(Activation('relu'))\n",
    "model.add(MaxPooling2D(pool_size=(2, 2)))\n",
    "\n",
    "model.add(Conv2D(64, (3, 3)))\n",
    "model.add(Activation('relu'))\n",
    "model.add(MaxPooling2D(pool_size=(2, 2)))\n",
    "\n",
    "model.add(Flatten())\n",
    "model.add(Dense(64))\n",
    "model.add(Activation('relu'))\n",
    "model.add(Dropout(0.5))\n",
    "model.add(Dense(1))\n",
    "model.add(Activation('sigmoid'))\n",
    "\n",
    "model.compile(loss='binary_crossentropy',\n",
    "              optimizer='rmsprop',\n",
    "              metrics=['accuracy'])\n",
    "\n",
    "print(model.summary())"
   ]
  },
  {
   "cell_type": "markdown",
   "metadata": {},
   "source": [
    "### Training our model"
   ]
  },
  {
   "cell_type": "code",
   "execution_count": 12,
   "metadata": {},
   "outputs": [
    {
     "name": "stdout",
     "output_type": "stream",
     "text": [
      "Train on 2000 samples, validate on 1000 samples\n",
      "Epoch 1/25\n",
      "2000/2000 [==============================] - 54s 27ms/step - loss: 0.7265 - acc: 0.5370 - val_loss: 0.6787 - val_acc: 0.5560\n",
      "Epoch 2/25\n",
      "2000/2000 [==============================] - 48s 24ms/step - loss: 0.6771 - acc: 0.6130 - val_loss: 0.6390 - val_acc: 0.6190\n",
      "Epoch 3/25\n",
      "2000/2000 [==============================] - 48s 24ms/step - loss: 0.6238 - acc: 0.6685 - val_loss: 0.5971 - val_acc: 0.6990\n",
      "Epoch 4/25\n",
      "2000/2000 [==============================] - 47s 23ms/step - loss: 0.5637 - acc: 0.7245 - val_loss: 0.6073 - val_acc: 0.6460\n",
      "Epoch 5/25\n",
      "2000/2000 [==============================] - 47s 24ms/step - loss: 0.5267 - acc: 0.7630 - val_loss: 0.5333 - val_acc: 0.7400\n",
      "Epoch 6/25\n",
      "2000/2000 [==============================] - 49s 25ms/step - loss: 0.4472 - acc: 0.7990 - val_loss: 0.5195 - val_acc: 0.7400\n",
      "Epoch 7/25\n",
      "2000/2000 [==============================] - 48s 24ms/step - loss: 0.3900 - acc: 0.8260 - val_loss: 0.6277 - val_acc: 0.7130\n",
      "Epoch 8/25\n",
      "2000/2000 [==============================] - 48s 24ms/step - loss: 0.3340 - acc: 0.8605 - val_loss: 0.5841 - val_acc: 0.7460\n",
      "Epoch 9/25\n",
      "2000/2000 [==============================] - 48s 24ms/step - loss: 0.2733 - acc: 0.8855 - val_loss: 0.6216 - val_acc: 0.7340\n",
      "Epoch 10/25\n",
      "2000/2000 [==============================] - 49s 24ms/step - loss: 0.2395 - acc: 0.9035 - val_loss: 0.7391 - val_acc: 0.7370\n",
      "Epoch 11/25\n",
      "2000/2000 [==============================] - 49s 24ms/step - loss: 0.1922 - acc: 0.9260 - val_loss: 0.9434 - val_acc: 0.7220\n",
      "Epoch 12/25\n",
      "2000/2000 [==============================] - 48s 24ms/step - loss: 0.1434 - acc: 0.9465 - val_loss: 1.1205 - val_acc: 0.7360\n",
      "Epoch 13/25\n",
      "2000/2000 [==============================] - 50s 25ms/step - loss: 0.1150 - acc: 0.9565 - val_loss: 1.2319 - val_acc: 0.7030\n",
      "Epoch 14/25\n",
      "2000/2000 [==============================] - 50s 25ms/step - loss: 0.0959 - acc: 0.9645 - val_loss: 1.3856 - val_acc: 0.7340\n",
      "Epoch 15/25\n",
      "2000/2000 [==============================] - 49s 25ms/step - loss: 0.0959 - acc: 0.9680 - val_loss: 1.1597 - val_acc: 0.6950\n",
      "Epoch 16/25\n",
      "2000/2000 [==============================] - 49s 25ms/step - loss: 0.0923 - acc: 0.9670 - val_loss: 1.2969 - val_acc: 0.7210\n",
      "Epoch 17/25\n",
      "2000/2000 [==============================] - 49s 24ms/step - loss: 0.0769 - acc: 0.9715 - val_loss: 1.4416 - val_acc: 0.7360\n",
      "Epoch 18/25\n",
      "2000/2000 [==============================] - 57s 29ms/step - loss: 0.0703 - acc: 0.9780 - val_loss: 1.6973 - val_acc: 0.7290\n",
      "Epoch 19/25\n",
      "2000/2000 [==============================] - 54s 27ms/step - loss: 0.0497 - acc: 0.9830 - val_loss: 1.9353 - val_acc: 0.7250\n",
      "Epoch 20/25\n",
      "2000/2000 [==============================] - 58s 29ms/step - loss: 0.0723 - acc: 0.9760 - val_loss: 1.7130 - val_acc: 0.7330\n",
      "Epoch 21/25\n",
      "2000/2000 [==============================] - 56s 28ms/step - loss: 0.0627 - acc: 0.9785 - val_loss: 1.6741 - val_acc: 0.7280\n",
      "Epoch 22/25\n",
      "2000/2000 [==============================] - 54s 27ms/step - loss: 0.1039 - acc: 0.9685 - val_loss: 2.2343 - val_acc: 0.7030\n",
      "Epoch 23/25\n",
      "2000/2000 [==============================] - 52s 26ms/step - loss: 0.0669 - acc: 0.9780 - val_loss: 1.3467 - val_acc: 0.7270\n",
      "Epoch 24/25\n",
      "2000/2000 [==============================] - 53s 27ms/step - loss: 0.0613 - acc: 0.9750 - val_loss: 2.3629 - val_acc: 0.7280\n",
      "Epoch 25/25\n",
      "2000/2000 [==============================] - 50s 25ms/step - loss: 0.0552 - acc: 0.9785 - val_loss: 2.1670 - val_acc: 0.7110\n",
      "1000/1000 [==============================] - 7s 7ms/step\n",
      "Test loss: 2.166996139526367\n",
      "Test accuracy: 0.711\n"
     ]
    }
   ],
   "source": [
    "history = model.fit(x_train, y_train,\n",
    "          batch_size=batch_size,\n",
    "          epochs=epochs,\n",
    "          validation_data=(x_test, y_test),\n",
    "          shuffle=True)\n",
    "\n",
    "model.save(\"/home/deeplearningcv/DeepLearningCV/Trained Models/cats_vs_dogs_V1.h5\")\n",
    "\n",
    "# Evaluate the performance of our trained model\n",
    "scores = model.evaluate(x_test, y_test, verbose=1)\n",
    "print('Test loss:', scores[0])\n",
    "print('Test accuracy:', scores[1])"
   ]
  },
  {
   "cell_type": "markdown",
   "metadata": {},
   "source": [
    "### Testing our Classifier"
   ]
  },
  {
   "cell_type": "code",
   "execution_count": 9,
   "metadata": {},
   "outputs": [
    {
     "name": "stdout",
     "output_type": "stream",
     "text": [
      "WARNING:tensorflow:From /home/gamer/anaconda3/lib/python3.7/site-packages/tensorflow/python/ops/math_ops.py:3066: to_int32 (from tensorflow.python.ops.math_ops) is deprecated and will be removed in a future version.\n",
      "Instructions for updating:\n",
      "Use tf.cast instead.\n"
     ]
    }
   ],
   "source": [
    "import cv2\n",
    "import numpy as np\n",
    "from keras.models import load_model\n",
    "\n",
    "classifier = load_model('/home/gamer/DeepLearningCV/Trained Models/cats_vs_dogs_V1.h5')\n",
    "\n",
    "def draw_test(name, pred, input_im):\n",
    "    BLACK = [0,0,0]\n",
    "    if pred == \"[0]\":\n",
    "        pred = \"cat\"\n",
    "    if pred == \"[1]\":\n",
    "        pred = \"dog\"\n",
    "    expanded_image = cv2.copyMakeBorder(input_im, 0, 0, 0, imageL.shape[0] ,cv2.BORDER_CONSTANT,value=BLACK)\n",
    "    #expanded_image = cv2.cvtColor(expanded_image, cv2.COLOR_GRAY2BGR)\n",
    "    cv2.putText(expanded_image, str(pred), (252, 70) , cv2.FONT_HERSHEY_COMPLEX_SMALL,4, (0,255,0), 2)\n",
    "    cv2.imshow(name, expanded_image)\n",
    "\n",
    "\n",
    "for i in range(0,10):\n",
    "    rand = np.random.randint(0,len(x_test))\n",
    "    input_im = x_test[rand]\n",
    "\n",
    "    imageL = cv2.resize(input_im, None, fx=2, fy=2, interpolation = cv2.INTER_CUBIC)\n",
    "    cv2.imshow(\"Test Image\", imageL)\n",
    "\n",
    "    input_im = input_im.reshape(1,150,150,3) \n",
    "    \n",
    "    ## Get Prediction\n",
    "    res = str(classifier.predict_classes(input_im, 1, verbose = 0)[0])\n",
    "\n",
    "    draw_test(\"Prediction\", res, imageL) \n",
    "    cv2.waitKey(0)\n",
    "\n",
    "cv2.destroyAllWindows()"
   ]
  },
  {
   "cell_type": "markdown",
   "metadata": {},
   "source": [
    "### Analysis\n",
    "- Our results aren't bad, but they could be better"
   ]
  },
  {
   "cell_type": "markdown",
   "metadata": {},
   "source": [
    "# Now let's train our Cats vs Dogs Classifier using Data Augmentation"
   ]
  },
  {
   "cell_type": "code",
   "execution_count": 25,
   "metadata": {},
   "outputs": [
    {
     "name": "stdout",
     "output_type": "stream",
     "text": [
      "Found 2000 images belonging to 2 classes.\n",
      "Found 1000 images belonging to 2 classes.\n"
     ]
    }
   ],
   "source": [
    "import os\n",
    "import numpy as np\n",
    "from keras.models import Sequential\n",
    "from keras.layers import Activation, Dropout, Flatten, Dense\n",
    "from keras.preprocessing.image import ImageDataGenerator\n",
    "from keras.layers import Conv2D, MaxPooling2D, ZeroPadding2D\n",
    "from keras import optimizers\n",
    "import scipy\n",
    "import pylab as pl\n",
    "import matplotlib.cm as cm\n",
    "%matplotlib inline\n",
    "\n",
    "input_shape = (150, 150, 3)\n",
    "img_width = 150\n",
    "img_height = 150\n",
    "\n",
    "nb_train_samples = 2000\n",
    "nb_validation_samples = 1000\n",
    "batch_size = 16\n",
    "epochs = 25\n",
    "\n",
    "train_data_dir = './datasets/catsvsdogs/train'\n",
    "validation_data_dir = './datasets/catsvsdogs/validation'\n",
    "\n",
    "# Creating our data generator for our test data\n",
    "validation_datagen = ImageDataGenerator(\n",
    "    # used to rescale the pixel values from [0, 255] to [0, 1] interval\n",
    "    rescale = 1./255)\n",
    "\n",
    "# Creating our data generator for our training data\n",
    "train_datagen = ImageDataGenerator(\n",
    "      rescale = 1./255,              # normalize pixel values to [0,1]\n",
    "      rotation_range = 30,           # randomly applies rotations\n",
    "      width_shift_range = 0.3,       # randomly applies width shifting\n",
    "      height_shift_range = 0.3,      # randomly applies height shifting\n",
    "      horizontal_flip = True,        # randonly flips the image\n",
    "      fill_mode = 'nearest')         # uses the fill mode nearest to fill gaps created by the above\n",
    "\n",
    "# Specify criteria about our training data, such as the directory, image size, batch size and type \n",
    "# automagically retrieve images and their classes for train and validation sets\n",
    "train_generator = train_datagen.flow_from_directory(\n",
    "        train_data_dir,\n",
    "        target_size = (img_width, img_height),\n",
    "        batch_size = batch_size,\n",
    "        class_mode = 'binary',\n",
    "        shuffle = True)\n",
    "\n",
    "validation_generator = validation_datagen.flow_from_directory(\n",
    "        validation_data_dir,\n",
    "        target_size = (img_width, img_height),\n",
    "        batch_size = batch_size,\n",
    "        class_mode = 'binary',\n",
    "        shuffle = False)    "
   ]
  },
  {
   "cell_type": "markdown",
   "metadata": {},
   "source": [
    "### Create our model, just like we did previously"
   ]
  },
  {
   "cell_type": "code",
   "execution_count": 5,
   "metadata": {},
   "outputs": [
    {
     "name": "stdout",
     "output_type": "stream",
     "text": [
      "_________________________________________________________________\n",
      "Layer (type)                 Output Shape              Param #   \n",
      "=================================================================\n",
      "conv2d_4 (Conv2D)            (None, 148, 148, 32)      896       \n",
      "_________________________________________________________________\n",
      "activation_6 (Activation)    (None, 148, 148, 32)      0         \n",
      "_________________________________________________________________\n",
      "max_pooling2d_4 (MaxPooling2 (None, 74, 74, 32)        0         \n",
      "_________________________________________________________________\n",
      "conv2d_5 (Conv2D)            (None, 72, 72, 32)        9248      \n",
      "_________________________________________________________________\n",
      "activation_7 (Activation)    (None, 72, 72, 32)        0         \n",
      "_________________________________________________________________\n",
      "max_pooling2d_5 (MaxPooling2 (None, 36, 36, 32)        0         \n",
      "_________________________________________________________________\n",
      "conv2d_6 (Conv2D)            (None, 34, 34, 64)        18496     \n",
      "_________________________________________________________________\n",
      "activation_8 (Activation)    (None, 34, 34, 64)        0         \n",
      "_________________________________________________________________\n",
      "max_pooling2d_6 (MaxPooling2 (None, 17, 17, 64)        0         \n",
      "_________________________________________________________________\n",
      "flatten_2 (Flatten)          (None, 18496)             0         \n",
      "_________________________________________________________________\n",
      "dense_3 (Dense)              (None, 64)                1183808   \n",
      "_________________________________________________________________\n",
      "activation_9 (Activation)    (None, 64)                0         \n",
      "_________________________________________________________________\n",
      "dropout_2 (Dropout)          (None, 64)                0         \n",
      "_________________________________________________________________\n",
      "dense_4 (Dense)              (None, 1)                 65        \n",
      "_________________________________________________________________\n",
      "activation_10 (Activation)   (None, 1)                 0         \n",
      "=================================================================\n",
      "Total params: 1,212,513\n",
      "Trainable params: 1,212,513\n",
      "Non-trainable params: 0\n",
      "_________________________________________________________________\n",
      "None\n"
     ]
    }
   ],
   "source": [
    "# Creating out model\n",
    "model = Sequential()\n",
    "model.add(Conv2D(32, (3, 3), input_shape=input_shape))\n",
    "model.add(Activation('relu'))\n",
    "model.add(MaxPooling2D(pool_size=(2, 2)))\n",
    "\n",
    "model.add(Conv2D(32, (3, 3)))\n",
    "model.add(Activation('relu'))\n",
    "model.add(MaxPooling2D(pool_size=(2, 2)))\n",
    "\n",
    "model.add(Conv2D(64, (3, 3)))\n",
    "model.add(Activation('relu'))\n",
    "model.add(MaxPooling2D(pool_size=(2, 2)))\n",
    "\n",
    "model.add(Flatten())\n",
    "model.add(Dense(64))\n",
    "model.add(Activation('relu'))\n",
    "model.add(Dropout(0.5))\n",
    "model.add(Dense(1))\n",
    "model.add(Activation('sigmoid'))\n",
    "\n",
    "print(model.summary())\n",
    "\n",
    "model.compile(loss='binary_crossentropy',\n",
    "              optimizer='rmsprop',\n",
    "              metrics=['accuracy'])"
   ]
  },
  {
   "cell_type": "code",
   "execution_count": 26,
   "metadata": {},
   "outputs": [
    {
     "name": "stdout",
     "output_type": "stream",
     "text": [
      "Epoch 1/25\n",
      "125/125 [==============================] - 76s 605ms/step - loss: 0.7353 - acc: 0.5215 - val_loss: 0.6896 - val_acc: 0.5212\n",
      "Epoch 2/25\n",
      "125/125 [==============================] - 67s 538ms/step - loss: 0.6934 - acc: 0.5505 - val_loss: 0.6767 - val_acc: 0.6057\n",
      "Epoch 3/25\n",
      "125/125 [==============================] - 61s 484ms/step - loss: 0.6884 - acc: 0.5665 - val_loss: 0.6812 - val_acc: 0.5152\n",
      "Epoch 4/25\n",
      "125/125 [==============================] - 66s 528ms/step - loss: 0.6871 - acc: 0.6070 - val_loss: 0.6295 - val_acc: 0.6667\n",
      "Epoch 5/25\n",
      "125/125 [==============================] - 75s 602ms/step - loss: 0.6636 - acc: 0.6025 - val_loss: 0.6360 - val_acc: 0.6362\n",
      "Epoch 6/25\n",
      "125/125 [==============================] - 66s 532ms/step - loss: 0.6502 - acc: 0.6290 - val_loss: 0.6081 - val_acc: 0.6636\n",
      "Epoch 7/25\n",
      "125/125 [==============================] - 82s 657ms/step - loss: 0.6456 - acc: 0.6320 - val_loss: 0.5880 - val_acc: 0.6890\n",
      "Epoch 8/25\n",
      "125/125 [==============================] - 61s 491ms/step - loss: 0.6263 - acc: 0.6430 - val_loss: 0.5426 - val_acc: 0.7185\n",
      "Epoch 9/25\n",
      "125/125 [==============================] - 52s 419ms/step - loss: 0.6673 - acc: 0.6590 - val_loss: 0.5660 - val_acc: 0.7043\n",
      "Epoch 10/25\n",
      "125/125 [==============================] - 52s 415ms/step - loss: 0.6310 - acc: 0.6475 - val_loss: 0.5528 - val_acc: 0.7154\n",
      "Epoch 11/25\n",
      "125/125 [==============================] - 53s 421ms/step - loss: 0.6321 - acc: 0.6670 - val_loss: 0.6197 - val_acc: 0.6809\n",
      "Epoch 12/25\n",
      "125/125 [==============================] - 50s 403ms/step - loss: 0.6176 - acc: 0.6740 - val_loss: 0.5395 - val_acc: 0.7307\n",
      "Epoch 13/25\n",
      "125/125 [==============================] - 50s 403ms/step - loss: 0.6205 - acc: 0.6720 - val_loss: 0.5686 - val_acc: 0.7022\n",
      "Epoch 14/25\n",
      "125/125 [==============================] - 50s 403ms/step - loss: 0.6107 - acc: 0.6695 - val_loss: 0.5949 - val_acc: 0.6850\n",
      "Epoch 15/25\n",
      "125/125 [==============================] - 51s 405ms/step - loss: 0.6243 - acc: 0.6805 - val_loss: 0.5391 - val_acc: 0.7348\n",
      "Epoch 16/25\n",
      "125/125 [==============================] - 50s 402ms/step - loss: 0.6218 - acc: 0.6680 - val_loss: 0.5603 - val_acc: 0.7226\n",
      "Epoch 17/25\n",
      "125/125 [==============================] - 50s 402ms/step - loss: 0.6181 - acc: 0.6815 - val_loss: 0.5870 - val_acc: 0.6463\n",
      "Epoch 18/25\n",
      "125/125 [==============================] - 52s 418ms/step - loss: 0.6097 - acc: 0.6935 - val_loss: 0.5511 - val_acc: 0.7378\n",
      "Epoch 19/25\n",
      "125/125 [==============================] - 70s 560ms/step - loss: 0.6117 - acc: 0.6840 - val_loss: 0.6247 - val_acc: 0.6972\n",
      "Epoch 20/25\n",
      "125/125 [==============================] - 78s 625ms/step - loss: 0.6123 - acc: 0.6830 - val_loss: 0.5259 - val_acc: 0.7530\n",
      "Epoch 21/25\n",
      "125/125 [==============================] - 77s 616ms/step - loss: 0.5895 - acc: 0.7020 - val_loss: 0.5110 - val_acc: 0.7490\n",
      "Epoch 22/25\n",
      "125/125 [==============================] - 79s 632ms/step - loss: 0.6088 - acc: 0.6865 - val_loss: 0.5251 - val_acc: 0.7307\n",
      "Epoch 23/25\n",
      "125/125 [==============================] - 77s 617ms/step - loss: 0.5969 - acc: 0.7005 - val_loss: 0.5204 - val_acc: 0.7398\n",
      "Epoch 24/25\n",
      "125/125 [==============================] - 76s 605ms/step - loss: 0.6232 - acc: 0.6885 - val_loss: 0.5314 - val_acc: 0.7449\n",
      "Epoch 25/25\n",
      "125/125 [==============================] - 76s 606ms/step - loss: 0.6042 - acc: 0.7030 - val_loss: 0.5229 - val_acc: 0.7581\n"
     ]
    }
   ],
   "source": [
    "history = model.fit_generator(\n",
    "    train_generator,\n",
    "    steps_per_epoch = nb_train_samples // batch_size,\n",
    "    epochs = epochs,\n",
    "    validation_data = validation_generator,\n",
    "    validation_steps = nb_validation_samples // batch_size)"
   ]
  },
  {
   "cell_type": "markdown",
   "metadata": {},
   "source": [
    "## Plotting our Loss and Accuracy Graphs"
   ]
  },
  {
   "cell_type": "code",
   "execution_count": 10,
   "metadata": {},
   "outputs": [
    {
     "ename": "NameError",
     "evalue": "name 'history' is not defined",
     "output_type": "error",
     "traceback": [
      "\u001b[0;31m---------------------------------------------------------------------------\u001b[0m",
      "\u001b[0;31mNameError\u001b[0m                                 Traceback (most recent call last)",
      "\u001b[0;32m<ipython-input-10-a672517d2a2d>\u001b[0m in \u001b[0;36m<module>\u001b[0;34m\u001b[0m\n\u001b[1;32m      2\u001b[0m \u001b[0;32mimport\u001b[0m \u001b[0mmatplotlib\u001b[0m\u001b[0;34m.\u001b[0m\u001b[0mpyplot\u001b[0m \u001b[0;32mas\u001b[0m \u001b[0mplt\u001b[0m\u001b[0;34m\u001b[0m\u001b[0;34m\u001b[0m\u001b[0m\n\u001b[1;32m      3\u001b[0m \u001b[0;34m\u001b[0m\u001b[0m\n\u001b[0;32m----> 4\u001b[0;31m \u001b[0mhistory_dict\u001b[0m \u001b[0;34m=\u001b[0m \u001b[0mhistory\u001b[0m\u001b[0;34m.\u001b[0m\u001b[0mhistory\u001b[0m\u001b[0;34m\u001b[0m\u001b[0;34m\u001b[0m\u001b[0m\n\u001b[0m\u001b[1;32m      5\u001b[0m \u001b[0;34m\u001b[0m\u001b[0m\n\u001b[1;32m      6\u001b[0m \u001b[0mloss_values\u001b[0m \u001b[0;34m=\u001b[0m \u001b[0mhistory_dict\u001b[0m\u001b[0;34m[\u001b[0m\u001b[0;34m'loss'\u001b[0m\u001b[0;34m]\u001b[0m\u001b[0;34m\u001b[0m\u001b[0;34m\u001b[0m\u001b[0m\n",
      "\u001b[0;31mNameError\u001b[0m: name 'history' is not defined"
     ]
    }
   ],
   "source": [
    "# Plotting our loss charts\n",
    "import matplotlib.pyplot as plt\n",
    "\n",
    "history_dict = history.history\n",
    "\n",
    "loss_values = history_dict['loss']\n",
    "val_loss_values = history_dict['val_loss']\n",
    "epochs = range(1, len(loss_values) + 1)\n",
    "\n",
    "line1 = plt.plot(epochs, val_loss_values, label='Validation/Test Loss')\n",
    "line2 = plt.plot(epochs, loss_values, label='Training Loss')\n",
    "plt.setp(line1, linewidth=2.0, marker = '+', markersize=10.0)\n",
    "plt.setp(line2, linewidth=2.0, marker = '4', markersize=10.0)\n",
    "plt.xlabel('Epochs') \n",
    "plt.ylabel('Loss')\n",
    "plt.grid(True)\n",
    "plt.legend()\n",
    "plt.show()"
   ]
  },
  {
   "cell_type": "code",
   "execution_count": 28,
   "metadata": {},
   "outputs": [
    {
     "data": {
      "image/png": "[encoded data removed]",
      "text/plain": [
       "<Figure size 432x288 with 1 Axes>"
      ]
     },
     "metadata": {
      "needs_background": "light"
     },
     "output_type": "display_data"
    }
   ],
   "source": [
    "# Plotting our accuracy charts\n",
    "import matplotlib.pyplot as plt\n",
    "\n",
    "history_dict = history.history\n",
    "\n",
    "acc_values = history_dict['acc']\n",
    "val_acc_values = history_dict['val_acc']\n",
    "epochs = range(1, len(loss_values) + 1)\n",
    "\n",
    "line1 = plt.plot(epochs, val_acc_values, label='Validation/Test Accuracy')\n",
    "line2 = plt.plot(epochs, acc_values, label='Training Accuracy')\n",
    "plt.setp(line1, linewidth=2.0, marker = '+', markersize=10.0)\n",
    "plt.setp(line2, linewidth=2.0, marker = '4', markersize=10.0)\n",
    "plt.xlabel('Epochs') \n",
    "plt.ylabel('Accuracy')\n",
    "plt.grid(True)\n",
    "plt.legend()\n",
    "plt.show()"
   ]
  }
 ],
 "metadata": {
  "kernelspec": {
   "display_name": "Python 3",
   "language": "python",
   "name": "python3"
  },
  "language_info": {
   "codemirror_mode": {
    "name": "ipython",
    "version": 3
   },
   "file_extension": ".py",
   "mimetype": "text/x-python",
   "name": "python",
   "nbconvert_exporter": "python",
   "pygments_lexer": "ipython3",
   "version": "3.7.1"
  }
 },
 "nbformat": 4,
 "nbformat_minor": 2
}
